{
 "cells": [
  {
   "cell_type": "code",
   "execution_count": 1,
   "id": "78c4cf4d",
   "metadata": {},
   "outputs": [],
   "source": [
    "import os\n",
    "import imageio"
   ]
  },
  {
   "cell_type": "code",
   "execution_count": 2,
   "id": "fe805c60",
   "metadata": {},
   "outputs": [
    {
     "data": {
      "text/plain": [
       "'/Users/flyingcape/Documents/NYC_Data_Science_Academy_Projects/R_Data_Analysis_Project/Texas_DFPS/makeGIF'"
      ]
     },
     "execution_count": 2,
     "metadata": {},
     "output_type": "execute_result"
    }
   ],
   "source": [
    "os.getcwd()"
   ]
  },
  {
   "cell_type": "code",
   "execution_count": 3,
   "id": "7f650bed",
   "metadata": {},
   "outputs": [
    {
     "name": "stdout",
     "output_type": "stream",
     "text": [
      "['homes_2017_frame21.png', 'homes_2016_frame1.png', 'homes_2019_frame12.png', 'homes_2020_frame25.png', 'homes_2020_frame19.png', 'homes_2013_frame4.png', 'homes_2015_frame14.png', 'homes_2015_frame28.png', 'homes_2012_frame18.png', 'homes_2012_frame24.png', 'homes_2012_frame30.png', 'homes_2012_frame25.png', 'homes_2012_frame19.png', 'homes_2015_frame29.png', 'homes_2015_frame15.png', 'homes_2013_frame5.png', 'homes_2020_frame18.png', 'homes_2020_frame24.png', 'homes_2020_frame30.png', 'homes_2019_frame13.png', 'homes_2016_frame0.png', 'homes_2017_frame20.png', 'homes_2017_frame22.png', 'homes_2016_frame2.png', 'homes_2020_frame26.png', 'homes_2019_frame11.png', 'homes_2013_frame7.png', 'homes_2015_frame17.png', 'homes_2012_frame27.png', 'homes_2012_frame26.png', 'homes_2015_frame16.png', 'homes_2013_frame6.png', 'homes_2019_frame10.png', 'homes_2020_frame27.png', 'homes_2016_frame3.png', 'homes_2017_frame23.png', 'homes_2017_frame27.png', 'homes_2016_frame7.png', 'homes_2019_frame28.png', 'homes_2020_frame23.png', 'homes_2019_frame14.png', 'homes_2015_frame9.png', 'homes_2013_frame2.png', 'homes_2015_frame12.png', 'homes_2012_frame22.png', 'homes_2012_frame23.png', 'homes_2015_frame13.png', 'homes_2013_frame3.png', 'homes_2015_frame8.png', 'homes_2019_frame15.png', 'homes_2020_frame22.png', 'homes_2019_frame29.png', 'homes_2016_frame6.png', 'homes_2017_frame26.png', 'homes_2017_frame18.png', 'homes_2017_frame24.png', 'homes_2016_frame4.png', 'homes_2017_frame30.png', 'homes_2019_frame17.png', 'homes_2020_frame20.png', 'homes_2013_frame1.png', 'homes_2018_frame9.png', 'homes_2015_frame11.png', 'homes_2012_frame21.png', 'homes_2012_frame20.png', 'homes_2015_frame10.png', 'homes_2018_frame8.png', 'homes_2013_frame0.png', 'homes_2020_frame21.png', 'homes_2019_frame16.png', 'homes_2016_frame5.png', 'homes_2017_frame25.png', 'homes_2017_frame19.png', 'homes_2019_frame3.png', 'homes_2011_frame5.png', 'homes_2014_frame19.png', 'homes_2014_frame25.png', 'homes_2013_frame15.png', 'homes_2013_frame29.png', 'homes_2016_frame10.png', 'homes_2011_frame20.png', 'homes_2018_frame23.png', 'homes_2014_frame0.png', 'homes_2014_frame1.png', 'homes_2018_frame22.png', 'homes_2011_frame21.png', 'homes_2016_frame11.png', 'homes_2013_frame28.png', 'homes_2013_frame14.png', 'homes_2014_frame24.png', 'homes_2014_frame30.png', 'homes_2014_frame18.png', 'homes_2011_frame4.png', 'homes_2019_frame2.png', 'homes_2012_frame8.png', 'homes_2019_frame0.png', 'homes_2011_frame6.png', 'homes_2014_frame26.png', 'homes_2013_frame16.png', 'homes_2016_frame13.png', 'homes_2011_frame23.png', 'homes_2018_frame20.png', 'homes_2014_frame3.png', 'homes_2014_frame2.png', 'homes_2018_frame21.png', 'homes_2011_frame22.png', 'homes_2016_frame12.png', 'homes_2013_frame17.png', 'homes_2014_frame27.png', 'homes_2011_frame7.png', 'homes_2019_frame1.png', 'homes_2012_frame9.png', 'homes_2019_frame5.png', 'homes_2014_frame23.png', 'homes_2011_frame3.png', 'homes_2013_frame13.png', 'homes_2016_frame16.png', 'homes_2020_frame8.png', 'homes_2017_frame8.png', 'homes_2011_frame26.png', 'homes_2018_frame25.png', 'homes_2018_frame19.png', 'homes_2014_frame6.png', 'homes_2014_frame7.png', 'homes_2018_frame18.png', 'homes_2018_frame30.png', 'homes_2018_frame24.png', 'homes_2011_frame27.png', 'homes_2017_frame9.png', 'homes_2020_frame9.png', 'homes_2016_frame17.png', 'homes_2013_frame12.png', 'homes_2011_frame2.png', 'homes_2014_frame22.png', 'homes_2019_frame4.png', 'homes_2019_frame6.png', 'homes_2014_frame20.png', 'homes_2011_frame0.png', 'homes_2013_frame10.png', 'homes_2016_frame15.png', 'homes_2016_frame29.png', 'homes_2011_frame19.png', 'homes_2011_frame25.png', 'homes_2018_frame26.png', 'homes_2014_frame5.png', 'homes_2014_frame4.png', 'homes_2018_frame27.png', 'homes_2011_frame24.png', 'homes_2011_frame30.png', 'homes_2011_frame18.png', 'homes_2016_frame28.png', 'homes_2016_frame14.png', 'homes_2013_frame11.png', 'homes_2011_frame1.png', 'homes_2014_frame21.png', 'homes_2019_frame7.png', 'homes_2012_frame2.png', 'homes_2014_frame10.png', 'homes_2013_frame20.png', 'homes_2016_frame19.png', 'homes_2020_frame7.png', 'homes_2016_frame25.png', 'homes_2017_frame7.png', 'homes_2011_frame15.png', 'homes_2011_frame29.png', 'homes_2018_frame16.png', 'homes_2014_frame9.png', 'homes_2014_frame8.png', 'homes_2018_frame17.png', 'homes_2011_frame28.png', 'homes_2011_frame14.png', 'homes_2016_frame30.png', 'homes_2017_frame6.png', 'homes_2016_frame24.png', 'homes_2020_frame6.png', 'homes_2016_frame18.png', 'homes_2013_frame21.png', 'homes_2014_frame11.png', 'homes_2012_frame3.png', 'homes_2019_frame9.png', 'homes_2012_frame1.png', 'homes_2014_frame13.png', 'homes_2013_frame23.png', 'homes_2020_frame4.png', 'homes_2016_frame26.png', 'homes_2017_frame4.png', 'homes_2011_frame16.png', 'homes_2018_frame29.png', 'homes_2018_frame15.png', 'homes_2018_frame14.png', 'homes_2018_frame28.png', 'homes_2011_frame17.png', 'homes_2017_frame5.png', 'homes_2016_frame27.png', 'homes_2020_frame5.png', 'homes_2013_frame22.png', 'homes_2014_frame12.png', 'homes_2012_frame0.png', 'homes_2019_frame8.png', 'homes_2012_frame4.png', 'homes_2014_frame16.png', 'homes_2013_frame26.png', 'homes_2016_frame23.png', 'homes_2017_frame1.png', 'homes_2020_frame1.png', 'homes_2011_frame13.png', 'homes_2018_frame10.png', 'homes_2018_frame11.png', 'homes_2011_frame12.png', 'homes_2020_frame0.png', 'homes_2017_frame0.png', 'homes_2016_frame22.png', 'homes_2013_frame27.png', 'homes_2014_frame17.png', 'homes_2012_frame5.png', 'homes_2012_frame7.png', 'homes_2014_frame15.png', 'homes_2011_frame9.png', 'homes_2014_frame29.png', 'homes_2013_frame19.png', 'homes_2013_frame25.png', 'homes_2016_frame20.png', 'homes_2017_frame2.png', 'homes_2020_frame2.png', 'homes_2011_frame10.png', 'homes_2018_frame13.png', 'homes_2018_frame12.png', 'homes_2011_frame11.png', 'homes_2020_frame3.png', 'homes_2017_frame3.png', 'homes_2016_frame21.png', 'homes_2013_frame30.png', 'homes_2013_frame24.png', 'homes_2013_frame18.png', 'homes_2014_frame28.png', 'homes_2011_frame8.png', 'homes_2014_frame14.png', 'homes_2012_frame6.png', 'homes_2017_frame14.png', 'homes_2017_frame28.png', 'homes_2016_frame8.png', 'homes_2020_frame10.png', 'homes_2019_frame27.png', 'homes_2015_frame6.png', 'homes_2018_frame5.png', 'homes_2015_frame21.png', 'homes_2012_frame11.png', 'homes_2012_frame10.png', 'homes_2015_frame20.png', 'homes_2018_frame4.png', 'homes_2015_frame7.png', 'homes_2019_frame26.png', 'homes_2020_frame11.png', 'homes_2016_frame9.png', 'homes_2017_frame29.png', 'homes_2017_frame15.png', 'homes_2017_frame17.png', 'homes_2019_frame24.png', 'homes_2020_frame13.png', 'homes_2019_frame30.png', 'homes_2019_frame18.png', 'homes_2015_frame5.png', 'homes_2018_frame6.png', 'homes_2015_frame22.png', 'homes_2012_frame12.png', 'homes_2012_frame13.png', 'homes_2015_frame23.png', 'homes_2018_frame7.png', 'homes_2015_frame4.png', 'homes_2019_frame19.png', 'homes_2020_frame12.png', 'homes_2019_frame25.png', 'homes_2017_frame16.png', 'homes_2017_frame12.png', 'homes_2019_frame21.png', 'homes_2020_frame16.png', 'homes_2015_frame0.png', 'homes_2018_frame3.png', 'homes_2015_frame27.png', 'homes_2012_frame17.png', 'homes_2012_frame16.png', 'homes_2015_frame26.png', 'homes_2018_frame2.png', 'homes_2015_frame1.png', 'homes_2020_frame17.png', 'homes_2019_frame20.png', 'homes_2017_frame13.png', 'homes_2017_frame11.png', 'homes_2020_frame29.png', 'homes_2020_frame15.png', 'homes_2019_frame22.png', 'homes_2015_frame3.png', 'homes_2018_frame0.png', 'homes_2013_frame8.png', 'homes_2015_frame18.png', 'homes_2015_frame30.png', 'homes_2015_frame24.png', 'homes_2012_frame14.png', 'homes_2012_frame28.png', 'homes_2012_frame29.png', 'homes_2012_frame15.png', 'homes_2015_frame25.png', 'homes_2015_frame19.png', 'homes_2013_frame9.png', 'homes_2018_frame1.png', 'homes_2015_frame2.png', 'homes_2019_frame23.png', 'homes_2020_frame14.png', 'homes_2020_frame28.png', 'homes_2017_frame10.png']\n"
     ]
    }
   ],
   "source": [
    "myfigures = ['homes_2011','homes_2012','homes_2013','homes_2014','homes_2015','homes_2016','homes_2017','homes_2018','homes_2019','homes_2020']\n",
    "\n",
    "import os\n",
    "import shutil\n",
    "\n",
    "src_dir = os.getcwd() #get the current working dir\n",
    "# create a dir where we want to copy and rename\n",
    "dest_dir = os.mkdir('forgif')\n",
    "os.listdir()\n",
    "dest_dir = src_dir+\"/forgif\"\n",
    "\n",
    "for myfig in myfigures:\n",
    "    for nn in range(31):\n",
    "        myfile_str = ' '.join(map(str,([myfig+'.png'])))\n",
    "        myfile_copy_str = ' '.join(map(str,([myfig+'_frame'+str(nn)+'.png'])))\n",
    "    \n",
    "        src_file = os.path.join(src_dir, myfile_str)\n",
    "        shutil.copy(src_file,dest_dir) # copy the file to destination dir\n",
    "\n",
    "        dst_file = os.path.join(dest_dir, myfile_str)\n",
    "        new_dst_file_name = os.path.join(dest_dir, myfile_copy_str)\n",
    "        os.rename(dst_file, new_dst_file_name)# rename\n",
    "        os.chdir(dest_dir)\n",
    "\n",
    "print(os.listdir())"
   ]
  },
  {
   "cell_type": "code",
   "execution_count": 4,
   "id": "c283b222",
   "metadata": {},
   "outputs": [
    {
     "name": "stdout",
     "output_type": "stream",
     "text": [
      "homes_2011_frame10.png\n",
      "homes_2011_frame0.png\n",
      "homes_2011_frame1.png\n",
      "homes_2011_frame2.png\n",
      "homes_2011_frame3.png\n",
      "homes_2011_frame4.png\n",
      "homes_2011_frame5.png\n",
      "homes_2011_frame6.png\n",
      "homes_2011_frame7.png\n",
      "homes_2011_frame8.png\n",
      "homes_2011_frame9.png\n",
      "homes_2012_frame10.png\n",
      "homes_2012_frame0.png\n",
      "homes_2012_frame1.png\n",
      "homes_2012_frame2.png\n",
      "homes_2012_frame3.png\n",
      "homes_2012_frame4.png\n",
      "homes_2012_frame5.png\n",
      "homes_2012_frame6.png\n",
      "homes_2012_frame7.png\n",
      "homes_2012_frame8.png\n",
      "homes_2012_frame9.png\n",
      "homes_2013_frame10.png\n",
      "homes_2013_frame0.png\n",
      "homes_2013_frame1.png\n",
      "homes_2013_frame2.png\n",
      "homes_2013_frame3.png\n",
      "homes_2013_frame4.png\n",
      "homes_2013_frame5.png\n",
      "homes_2013_frame6.png\n",
      "homes_2013_frame7.png\n",
      "homes_2013_frame8.png\n",
      "homes_2013_frame9.png\n",
      "homes_2014_frame10.png\n",
      "homes_2014_frame0.png\n",
      "homes_2014_frame1.png\n",
      "homes_2014_frame2.png\n",
      "homes_2014_frame3.png\n",
      "homes_2014_frame4.png\n",
      "homes_2014_frame5.png\n",
      "homes_2014_frame6.png\n",
      "homes_2014_frame7.png\n",
      "homes_2014_frame8.png\n",
      "homes_2014_frame9.png\n",
      "homes_2015_frame10.png\n",
      "homes_2015_frame0.png\n",
      "homes_2015_frame1.png\n",
      "homes_2015_frame2.png\n",
      "homes_2015_frame3.png\n",
      "homes_2015_frame4.png\n",
      "homes_2015_frame5.png\n",
      "homes_2015_frame6.png\n",
      "homes_2015_frame7.png\n",
      "homes_2015_frame8.png\n",
      "homes_2015_frame9.png\n",
      "homes_2016_frame10.png\n",
      "homes_2016_frame0.png\n",
      "homes_2016_frame1.png\n",
      "homes_2016_frame2.png\n",
      "homes_2016_frame3.png\n",
      "homes_2016_frame4.png\n",
      "homes_2016_frame5.png\n",
      "homes_2016_frame6.png\n",
      "homes_2016_frame7.png\n",
      "homes_2016_frame8.png\n",
      "homes_2016_frame9.png\n",
      "homes_2017_frame10.png\n",
      "homes_2017_frame0.png\n",
      "homes_2017_frame1.png\n",
      "homes_2017_frame2.png\n",
      "homes_2017_frame3.png\n",
      "homes_2017_frame4.png\n",
      "homes_2017_frame5.png\n",
      "homes_2017_frame6.png\n",
      "homes_2017_frame7.png\n",
      "homes_2017_frame8.png\n",
      "homes_2017_frame9.png\n",
      "homes_2018_frame10.png\n",
      "homes_2018_frame0.png\n",
      "homes_2018_frame1.png\n",
      "homes_2018_frame2.png\n",
      "homes_2018_frame3.png\n",
      "homes_2018_frame4.png\n",
      "homes_2018_frame5.png\n",
      "homes_2018_frame6.png\n",
      "homes_2018_frame7.png\n",
      "homes_2018_frame8.png\n",
      "homes_2018_frame9.png\n",
      "homes_2019_frame10.png\n",
      "homes_2019_frame0.png\n",
      "homes_2019_frame1.png\n",
      "homes_2019_frame2.png\n",
      "homes_2019_frame3.png\n",
      "homes_2019_frame4.png\n",
      "homes_2019_frame5.png\n",
      "homes_2019_frame6.png\n",
      "homes_2019_frame7.png\n",
      "homes_2019_frame8.png\n",
      "homes_2019_frame9.png\n",
      "homes_2020_frame10.png\n",
      "homes_2020_frame0.png\n",
      "homes_2020_frame1.png\n",
      "homes_2020_frame2.png\n",
      "homes_2020_frame3.png\n",
      "homes_2020_frame4.png\n",
      "homes_2020_frame5.png\n",
      "homes_2020_frame6.png\n",
      "homes_2020_frame7.png\n",
      "homes_2020_frame8.png\n",
      "homes_2020_frame9.png\n"
     ]
    }
   ],
   "source": [
    "# Build GIF\n",
    "with imageio.get_writer('mygif.gif', mode='I') as writer:\n",
    "    for filename in ['homes_2011_frame10.png', 'homes_2011_frame0.png', 'homes_2011_frame1.png', 'homes_2011_frame2.png', 'homes_2011_frame3.png', 'homes_2011_frame4.png', 'homes_2011_frame5.png', 'homes_2011_frame6.png', 'homes_2011_frame7.png', 'homes_2011_frame8.png', 'homes_2011_frame9.png', \n",
    "                     'homes_2012_frame10.png', 'homes_2012_frame0.png', 'homes_2012_frame1.png', 'homes_2012_frame2.png', 'homes_2012_frame3.png', 'homes_2012_frame4.png', 'homes_2012_frame5.png', 'homes_2012_frame6.png', 'homes_2012_frame7.png', 'homes_2012_frame8.png', 'homes_2012_frame9.png',\n",
    "                     'homes_2013_frame10.png', 'homes_2013_frame0.png', 'homes_2013_frame1.png', 'homes_2013_frame2.png', 'homes_2013_frame3.png', 'homes_2013_frame4.png', 'homes_2013_frame5.png', 'homes_2013_frame6.png', 'homes_2013_frame7.png', 'homes_2013_frame8.png', 'homes_2013_frame9.png',\n",
    "                     'homes_2014_frame10.png', 'homes_2014_frame0.png', 'homes_2014_frame1.png', 'homes_2014_frame2.png', 'homes_2014_frame3.png', 'homes_2014_frame4.png', 'homes_2014_frame5.png', 'homes_2014_frame6.png', 'homes_2014_frame7.png', 'homes_2014_frame8.png', 'homes_2014_frame9.png',\n",
    "                     'homes_2015_frame10.png', 'homes_2015_frame0.png', 'homes_2015_frame1.png', 'homes_2015_frame2.png', 'homes_2015_frame3.png', 'homes_2015_frame4.png', 'homes_2015_frame5.png', 'homes_2015_frame6.png', 'homes_2015_frame7.png', 'homes_2015_frame8.png', 'homes_2015_frame9.png',\n",
    "                     'homes_2016_frame10.png', 'homes_2016_frame0.png', 'homes_2016_frame1.png', 'homes_2016_frame2.png', 'homes_2016_frame3.png', 'homes_2016_frame4.png', 'homes_2016_frame5.png', 'homes_2016_frame6.png', 'homes_2016_frame7.png', 'homes_2016_frame8.png', 'homes_2016_frame9.png',\n",
    "                     'homes_2017_frame10.png', 'homes_2017_frame0.png', 'homes_2017_frame1.png', 'homes_2017_frame2.png', 'homes_2017_frame3.png', 'homes_2017_frame4.png', 'homes_2017_frame5.png', 'homes_2017_frame6.png', 'homes_2017_frame7.png', 'homes_2017_frame8.png', 'homes_2017_frame9.png',\n",
    "                     'homes_2018_frame10.png', 'homes_2018_frame0.png', 'homes_2018_frame1.png', 'homes_2018_frame2.png', 'homes_2018_frame3.png', 'homes_2018_frame4.png', 'homes_2018_frame5.png', 'homes_2018_frame6.png', 'homes_2018_frame7.png', 'homes_2018_frame8.png', 'homes_2018_frame9.png',\n",
    "                     'homes_2019_frame10.png', 'homes_2019_frame0.png', 'homes_2019_frame1.png', 'homes_2019_frame2.png', 'homes_2019_frame3.png', 'homes_2019_frame4.png', 'homes_2019_frame5.png', 'homes_2019_frame6.png', 'homes_2019_frame7.png', 'homes_2019_frame8.png', 'homes_2019_frame9.png',\n",
    "                     'homes_2020_frame10.png', 'homes_2020_frame0.png', 'homes_2020_frame1.png', 'homes_2020_frame2.png', 'homes_2020_frame3.png', 'homes_2020_frame4.png', 'homes_2020_frame5.png', 'homes_2020_frame6.png', 'homes_2020_frame7.png', 'homes_2020_frame8.png', 'homes_2020_frame9.png']:\n",
    "        print(filename)\n",
    "        image = imageio.imread(filename)\n",
    "        writer.append_data(image)"
   ]
  },
  {
   "cell_type": "code",
   "execution_count": null,
   "id": "84915398",
   "metadata": {},
   "outputs": [],
   "source": []
  }
 ],
 "metadata": {
  "kernelspec": {
   "display_name": "Python 3",
   "language": "python",
   "name": "python3"
  },
  "language_info": {
   "codemirror_mode": {
    "name": "ipython",
    "version": 3
   },
   "file_extension": ".py",
   "mimetype": "text/x-python",
   "name": "python",
   "nbconvert_exporter": "python",
   "pygments_lexer": "ipython3",
   "version": "3.8.8"
  }
 },
 "nbformat": 4,
 "nbformat_minor": 5
}
